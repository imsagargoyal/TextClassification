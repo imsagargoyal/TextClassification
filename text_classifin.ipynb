{
 "cells": [
  {
   "cell_type": "markdown",
   "metadata": {},
   "source": [
    "# Text Classification"
   ]
  },
  {
   "cell_type": "markdown",
   "metadata": {},
   "source": [
    "## Project Overview\n",
    "Document classification or document categorization is a problem in Information science, computer science and arts. The  task <br>is to assign a document to at least one or a lot of categories. this could be done \"manually\" (or \"intellectually\") or algorithimically, and also the documents to be classified could also be texts, images, music, etc. every quite document possesses its special classification issues. Documents could also be classified consistent with their subjects or consistent with different attributes (such as document kind, author, printing year etc.). This project can specialize in algorithmic strategies, precisely machine learning algorithms that area unit wide employed in IP and computing. There area unit several classification algorithms akin to Naive Bayes, Decision Tree and etc, all of that have their advantages and downsides. There area unit several public text knowledge set on-line for classification, here, I will be able to apply classification algorithms more on notable 20_newsgroup knowledge set from UCI Machine Learning Repository, that features a assortment of twenty thousand messages, collected from twenty completely different web news newsgroups. The news are classified consistent with their contents."
   ]
  },
  {
   "cell_type": "markdown",
   "metadata": {},
   "source": [
    "## Problem Statement\n",
    "The classification of 20_newsgroup dataset is a supervised classification problem, there are news of 20 categories, each piece of news belongs to one category, the goal is to extract proper features and build an effective model to assign each piece of news to the correct category. "
   ]
  },
  {
   "cell_type": "markdown",
   "metadata": {},
   "source": [
    "### Metrics\n",
    "Here I have used two metrics<br>\n",
    "1) Classification Report<br>\n",
    "2) Confusion Matrix"
   ]
  },
  {
   "cell_type": "markdown",
   "metadata": {},
   "source": [
    "## Algorithm Used in this project\n",
    "This problem has over 20000 training samples with ten categories,a multi-class classification problem with high dimensions.I will try Multinomial Naive Bayes on this as they work even on Large datasets.They are highly scalable and requires a small amount of training data for classification."
   ]
  },
  {
   "cell_type": "markdown",
   "metadata": {},
   "source": [
    "### Libraries required for this project\n",
    "1) Scikit Learn <br>\n",
    "2) MatplotLib<br>\n",
    "3) Numpy<br>\n",
    "4) Regular Expression<br>\n",
    "5) Operating System i.e os"
   ]
  },
  {
   "cell_type": "code",
   "execution_count": 1,
   "metadata": {},
   "outputs": [],
   "source": [
    "import os\n",
    "import re\n",
    "import numpy as np\n",
    "import matplotlib.pyplot as plt\n",
    "%matplotlib inline\n",
    "from sklearn.naive_bayes import MultinomialNB\n",
    "import pandas as pd\n",
    "from sklearn.metrics import classification_report\n",
    "from sklearn.metrics import confusion_matrix"
   ]
  },
  {
   "cell_type": "markdown",
   "metadata": {},
   "source": [
    "## Data Extraction and building the training and test data"
   ]
  },
  {
   "cell_type": "markdown",
   "metadata": {},
   "source": [
    "## What are stop words?\n",
    "In computing, stop words are words which are filtered out before or after processing of natural language data (text).\n",
    "These are the words which are used a lot in a language eg. and,the,themselves.\n",
    "In this classification problem we will remove the stop words and these stop words are not are not helpful in classification of documents."
   ]
  },
  {
   "cell_type": "code",
   "execution_count": 2,
   "metadata": {},
   "outputs": [],
   "source": [
    "#We stored a list of stop words in a txt file and now we will copy all the data in a set and will use it in out function\n",
    "stop_words=()\n",
    "with open('stop_words.txt','r') as f:\n",
    "    words=f.read().split()\n",
    "    stop_words=set(words)"
   ]
  },
  {
   "cell_type": "code",
   "execution_count": 3,
   "metadata": {},
   "outputs": [
    {
     "data": {
      "text/plain": [
       "759"
      ]
     },
     "execution_count": 3,
     "metadata": {},
     "output_type": "execute_result"
    }
   ],
   "source": [
    "len(stop_words)"
   ]
  },
  {
   "cell_type": "code",
   "execution_count": 4,
   "metadata": {},
   "outputs": [],
   "source": [
    "def get_simple_pos(tag):\n",
    "    if tag.startswith('J'):\n",
    "        return wordnet.ADJ\n",
    "    elif tag.startswith('V'):\n",
    "        return wordnet.VERB\n",
    "    elif tag.startswith('N'):\n",
    "        return wordnet.NOUN\n",
    "    elif tag.startswith('R'):\n",
    "        return wordnet.ADV\n",
    "    else:\n",
    "        return wordnet.NOUN"
   ]
  },
  {
   "cell_type": "markdown",
   "metadata": {},
   "source": [
    "## Creating a vocabulary\n",
    "1) Open the directory where all the documents are saved<br>\n",
    "2) Open each document and perform these steps<br>\n",
    "      2.1) Open a file in the current document<br>\n",
    "      2.2) Read the contents of that file and store it in a variable<br>\n",
    "      2.3) Using regular expression extract only words are store it in a variable<br>\n",
    "      2.4) Iterate over each word and do the following<br>\n",
    "              2.4.1) If word consists of only alphabets and length of word is more than 2 and the word is not a stop word<br>\n",
    "                  -Check if the word is there in the dictionary if it is there<br>\n",
    "                      -Increase the count by 1<br>\n",
    "                      -Else add this word and set the count as 1<br>\n",
    "      repeat from step 2.1 for all the files in the document\n",
    "              \n",
    "        "
   ]
  },
  {
   "cell_type": "code",
   "execution_count": 5,
   "metadata": {},
   "outputs": [],
   "source": [
    "#Create a dictionary\n",
    "def create_dict(folder_name):\n",
    "    global comment_word\n",
    "    vocab=dict()\n",
    "    relative=folder_name\n",
    "    for filename in os.listdir(relative):\n",
    "        new_relative=os.path.join(relative,filename)\n",
    "        for document in os.listdir(new_relative):\n",
    "            new_document_relative=os.path.join(new_relative,document)\n",
    "            f=open(new_document_relative, encoding = \"ISO-8859-1\")\n",
    "            words=f.read()\n",
    "            tokens=re.compile('\\w+').findall(words)\n",
    "            for token in tokens:\n",
    "                if (token.isalpha() and len(token)>2 and token.lower() not in stop_words):\n",
    "                    out=token.lower()\n",
    "                    if out not in vocab.keys():\n",
    "                        vocab[out]=1\n",
    "                    else:\n",
    "                        vocab[out]+=1\n",
    "    return vocab"
   ]
  },
  {
   "cell_type": "code",
   "execution_count": 6,
   "metadata": {},
   "outputs": [],
   "source": [
    "vocabulary=create_dict('20_newsgroups/')"
   ]
  },
  {
   "cell_type": "code",
   "execution_count": 7,
   "metadata": {},
   "outputs": [
    {
     "data": {
      "text/plain": [
       "74016"
      ]
     },
     "execution_count": 7,
     "metadata": {},
     "output_type": "execute_result"
    }
   ],
   "source": [
    "#Number of words in the vocabulary is 74016\n",
    "len(vocabulary)"
   ]
  },
  {
   "cell_type": "code",
   "execution_count": 8,
   "metadata": {},
   "outputs": [],
   "source": [
    "#Words sorted according to their word count in reverse order i.e word having the max count is the first word in our list \n",
    "#Now we will use this to find the number of words with a particular frequency and will lot the graph to hae a better understanding\n",
    "import operator\n",
    "sorted_by_value = sorted(vocabulary.items(), key=operator.itemgetter(1),reverse=True)"
   ]
  },
  {
   "cell_type": "code",
   "execution_count": 9,
   "metadata": {},
   "outputs": [
    {
     "data": {
      "text/plain": [
       "[('cmu', 38928),\n",
       " ('news', 24977),\n",
       " ('srv', 24034),\n",
       " ('cantaloupe', 19288),\n",
       " ('net', 18899)]"
      ]
     },
     "execution_count": 9,
     "metadata": {},
     "output_type": "execute_result"
    }
   ],
   "source": [
    "sorted_by_value[:5]"
   ]
  },
  {
   "cell_type": "code",
   "execution_count": 10,
   "metadata": {},
   "outputs": [],
   "source": [
    "#Now we will make two lists from our dictionary and then we will use it to make a dictionary of word count and frequency \n",
    "#this dictionary will basically have key as count of words and value as word count \n",
    "words=list()\n",
    "count=list()"
   ]
  },
  {
   "cell_type": "code",
   "execution_count": 11,
   "metadata": {},
   "outputs": [],
   "source": [
    "for i in range(len(sorted_by_value)):\n",
    "    words.append(sorted_by_value[i][0])\n",
    "    count.append(sorted_by_value[i][1])"
   ]
  },
  {
   "cell_type": "code",
   "execution_count": 12,
   "metadata": {},
   "outputs": [
    {
     "data": {
      "text/plain": [
       "[('cmu', 38928),\n",
       " ('news', 24977),\n",
       " ('srv', 24034),\n",
       " ('cantaloupe', 19288),\n",
       " ('net', 18899)]"
      ]
     },
     "execution_count": 12,
     "metadata": {},
     "output_type": "execute_result"
    }
   ],
   "source": [
    "sorted_by_value[:5]"
   ]
  },
  {
   "cell_type": "markdown",
   "metadata": {},
   "source": [
    "### Plotting the graph of word count and number of words that have this count"
   ]
  },
  {
   "cell_type": "code",
   "execution_count": 13,
   "metadata": {},
   "outputs": [],
   "source": [
    "#Taking only distinct values of count\n",
    "ab=set(count)"
   ]
  },
  {
   "cell_type": "code",
   "execution_count": 14,
   "metadata": {},
   "outputs": [],
   "source": [
    "#We will create a dictionary of words_frequency and will use this to plot the graph\n",
    "words_freq=dict()"
   ]
  },
  {
   "cell_type": "code",
   "execution_count": 15,
   "metadata": {},
   "outputs": [],
   "source": [
    "#Creating our dictionary\n",
    "for i in ab:\n",
    "    words_freq[count.count(i)]=i"
   ]
  },
  {
   "cell_type": "code",
   "execution_count": 16,
   "metadata": {},
   "outputs": [],
   "source": [
    "#Sorting our dictonary on the basis of value ans this will make a tuple\n",
    "sorted_by_freq = sorted(words_freq.items(), key=operator.itemgetter(1),reverse=True)"
   ]
  },
  {
   "cell_type": "code",
   "execution_count": 17,
   "metadata": {},
   "outputs": [],
   "source": [
    "#Now we will make 2 lists from this tuple so that we can easily plot this\n",
    "num_of_words=[]\n",
    "freq_of_words=[]\n",
    "for i in range(len(sorted_by_freq)):\n",
    "    num_of_words.append(sorted_by_freq[i][0])\n",
    "    freq_of_words.append(sorted_by_freq[i][1])"
   ]
  },
  {
   "cell_type": "code",
   "execution_count": 18,
   "metadata": {},
   "outputs": [
    {
     "data": {
      "text/plain": [
       "<Container object of 10 artists>"
      ]
     },
     "execution_count": 18,
     "metadata": {},
     "output_type": "execute_result"
    },
    {
     "data": {
      "image/png": "[encoded data removed]",
      "text/plain": [
       "<matplotlib.figure.Figure at 0xd48db30>"
      ]
     },
     "metadata": {},
     "output_type": "display_data"
    }
   ],
   "source": [
    "#Top 10 words in the feature set\n",
    "plt.figure(figsize=(10,10))\n",
    "plt.bar(words[0:10],count[0:10],color='grey',edgecolor='black')"
   ]
  },
  {
   "cell_type": "code",
   "execution_count": 75,
   "metadata": {},
   "outputs": [
    {
     "data": {
      "text/plain": [
       "<matplotlib.collections.PathCollection at 0x7f28259b22b0>"
      ]
     },
     "execution_count": 75,
     "metadata": {},
     "output_type": "execute_result"
    },
    {
     "data": {
      "image/png": "[encoded data removed]",
      "text/plain": [
       "<Figure size 1440x720 with 1 Axes>"
      ]
     },
     "metadata": {},
     "output_type": "display_data"
    }
   ],
   "source": [
    "import numpy as np\n",
    "plt.figure(figsize=(20,10))\n",
    "plt.yticks(np.arange(0,2100,100))\n",
    "plt.xlabel(\"Number of Words\")\n",
    "plt.ylabel('Frequency')\n",
    "plt.xticks(np.arange(0,200,5))\n",
    "plt.xlim(0,200)\n",
    "plt.ylim(0,2100)\n",
    "plt.plot(num_of_words,freq_of_words)\n",
    "plt.scatter(num_of_words,freq_of_words)"
   ]
  },
  {
   "cell_type": "code",
   "execution_count": null,
   "metadata": {},
   "outputs": [],
   "source": []
  },
  {
   "cell_type": "code",
   "execution_count": 77,
   "metadata": {},
   "outputs": [],
   "source": [
    "comment_words=''\n",
    "word_value=words[0:500]\n",
    "count_value=count[0:500]\n",
    "for i in range(len(count_value)):\n",
    "    count_value[i]=int(count_value[i]/100)"
   ]
  },
  {
   "cell_type": "code",
   "execution_count": 83,
   "metadata": {},
   "outputs": [],
   "source": [
    "for i in range(len(word_value)):\n",
    "    word=word_value[i]\n",
    "    count=count_value[i]\n",
    "    for j in range(count):\n",
    "        comment_words+=word+' '"
   ]
  },
  {
   "cell_type": "markdown",
   "metadata": {},
   "source": [
    "### Creating the wordcloud\n",
    "Word clouds (also known as text clouds or tag clouds) work in a simple way: the more a specific word appears in a source of textual data (such as a speech, blog post, or database), the bigger and bolder it appears in the word cloud."
   ]
  },
  {
   "cell_type": "code",
   "execution_count": 87,
   "metadata": {},
   "outputs": [
    {
     "data": {
      "image/png": "[encoded data removed]",
      "text/plain": [
       "<Figure size 576x576 with 1 Axes>"
      ]
     },
     "metadata": {},
     "output_type": "display_data"
    }
   ],
   "source": [
    "from wordcloud import WordCloud\n",
    "\n",
    "wordcloud = WordCloud(width = 800, height = 800,\n",
    "                background_color ='white',\n",
    "                stopwords = stop_words,\n",
    "                collocations = False,\n",
    "                min_font_size = 10).generate(comment_words)\n",
    "\n",
    "plt.figure(figsize = (8, 8), facecolor = None)\n",
    "plt.imshow(wordcloud)\n",
    "plt.axis(\"off\")\n",
    "plt.tight_layout(pad = 0)\n",
    " \n",
    "plt.show()\n"
   ]
  },
  {
   "cell_type": "markdown",
   "metadata": {},
   "source": [
    "### Building the training data "
   ]
  },
  {
   "cell_type": "markdown",
   "metadata": {},
   "source": [
    "#### Now we will choose first 1000 of the words from this list and will make that list as our feature set\n",
    "When the dataset is huge we want to reduce the complexity as much as possible.Initially we took 500 and then compared it with this and the accuracy was pretty low then we took 1500 and compared the accuracy.In the latter case the complexity is 1.5 times but the accuracy also increased by 1%.When we are dealing with problems like this where we have a complexity accuracy tradeoff.We either increase the accuracy as much as possible which increases the complexity or we try to balance this and this whole process depends on the application.When we are doing reasearch on something like this we only focus on accuracy and while making an app we want to reduce the complexity as much as possible.Here as we are making a web app by experimenting with some random values we chose 1000.  "
   ]
  },
  {
   "cell_type": "code",
   "execution_count": 19,
   "metadata": {},
   "outputs": [],
   "source": [
    "feature_set=words[0:1000]"
   ]
  },
  {
   "cell_type": "code",
   "execution_count": 20,
   "metadata": {},
   "outputs": [],
   "source": [
    "np.savetxt(\"feature_set.csv\",feature_set,fmt=\"%s\",delimiter=\",\")"
   ]
  },
  {
   "cell_type": "code",
   "execution_count": 21,
   "metadata": {},
   "outputs": [
    {
     "data": {
      "text/plain": [
       "['cmu', 'news', 'srv', 'cantaloupe', 'net']"
      ]
     },
     "execution_count": 21,
     "metadata": {},
     "output_type": "execute_result"
    }
   ],
   "source": [
    "feature_set[:5]"
   ]
  },
  {
   "cell_type": "markdown",
   "metadata": {},
   "source": [
    "#### Now we will create a 2d array where number of rows will be the number of documents we have In this case it is 20 and column will be 1000 as this is the length of our feature set"
   ]
  },
  {
   "cell_type": "code",
   "execution_count": 23,
   "metadata": {},
   "outputs": [],
   "source": [
    "#Initially we will have all the values set to zero\n",
    "X_train=np.zeros((15000,1000))"
   ]
  },
  {
   "cell_type": "markdown",
   "metadata": {},
   "source": [
    "### Code to make training data from the documents"
   ]
  },
  {
   "cell_type": "markdown",
   "metadata": {},
   "source": [
    "## Steps used in this process\n",
    "1) Take two variables X_train to store training data and Y_train to store target data <br>\n",
    "2) Now open each file in a document.Here each file will be a row.<br>\n",
    "3) Read the contents in a variable.Use reg exp and extract all the words in that file<br>\n",
    "4) Now iterate over the words and do the following:<br>\n",
    "If that word is present in the vocabulary increment the count of that column.If not present continue.<br>\n",
    "Repeat from step 2 for all all the documents"
   ]
  },
  {
   "cell_type": "code",
   "execution_count": 24,
   "metadata": {},
   "outputs": [],
   "source": [
    "Y_train=[]\n",
    "i=0\n",
    "#Go to each folder in the folder 20_newsgroups\n",
    "for document in os.listdir('20_newsgroups/'):\n",
    "    new_path=os.path.join('20_newsgroups/',document)\n",
    "    #Go to each file\n",
    "    for file in os.listdir(new_path):\n",
    "        new_file_path=os.path.join(new_path,file)\n",
    "        f=open(new_file_path,'r')\n",
    "        content=f.read()\n",
    "        #Generate the tokens using regular expression\n",
    "        tokens=re.compile('\\w+').findall(content)\n",
    "        #Iterate over the tokens and if found in feature set add this in the particular location in the 2d array\n",
    "        for token in tokens:\n",
    "            if token in feature_set:\n",
    "                X_train[i][feature_set.index(token)]+=1\n",
    "        Y_train.append(document)\n",
    "        i+=1"
   ]
  },
  {
   "cell_type": "code",
   "execution_count": 25,
   "metadata": {},
   "outputs": [
    {
     "data": {
      "text/plain": [
       "(15000, 1000)"
      ]
     },
     "execution_count": 25,
     "metadata": {},
     "output_type": "execute_result"
    }
   ],
   "source": [
    "##Initially I thought there were 15000 total file but there were 14997 so I removed the last 3 rows\n",
    "X_train.shape"
   ]
  },
  {
   "cell_type": "code",
   "execution_count": 26,
   "metadata": {},
   "outputs": [],
   "source": [
    "X_TRAIN=X_train[0:14997,:]"
   ]
  },
  {
   "cell_type": "code",
   "execution_count": 80,
   "metadata": {},
   "outputs": [],
   "source": [
    "np.savetxt('y_train.csv',Y_train,fmt=\"%s\",delimiter=',')"
   ]
  },
  {
   "cell_type": "code",
   "execution_count": 27,
   "metadata": {},
   "outputs": [
    {
     "data": {
      "text/plain": [
       "14997"
      ]
     },
     "execution_count": 27,
     "metadata": {},
     "output_type": "execute_result"
    }
   ],
   "source": [
    "len(Y_train)\n",
    "i"
   ]
  },
  {
   "cell_type": "markdown",
   "metadata": {},
   "source": [
    "### THIS IS DONE AFTER DATA IS SPLIT INTO TRAINAND TEST AND VOCAB IS MADE ON TRAIN DATA"
   ]
  },
  {
   "cell_type": "code",
   "execution_count": 28,
   "metadata": {},
   "outputs": [],
   "source": [
    "np.savetxt('after_train.csv',X_TRAIN,fmt='%i',delimiter=',')"
   ]
  },
  {
   "cell_type": "code",
   "execution_count": 29,
   "metadata": {},
   "outputs": [],
   "source": [
    "X_train_after=np.loadtxt('after_train.csv',dtype=int,delimiter=',')"
   ]
  },
  {
   "cell_type": "code",
   "execution_count": 30,
   "metadata": {},
   "outputs": [
    {
     "data": {
      "text/plain": [
       "(14997, 1000)"
      ]
     },
     "execution_count": 30,
     "metadata": {},
     "output_type": "execute_result"
    }
   ],
   "source": [
    "X_train_after.shape"
   ]
  },
  {
   "cell_type": "code",
   "execution_count": 31,
   "metadata": {},
   "outputs": [
    {
     "data": {
      "text/html": [
       "<div>\n",
       "<style scoped>\n",
       "    .dataframe tbody tr th:only-of-type {\n",
       "        vertical-align: middle;\n",
       "    }\n",
       "\n",
       "    .dataframe tbody tr th {\n",
       "        vertical-align: top;\n",
       "    }\n",
       "\n",
       "    .dataframe thead th {\n",
       "        text-align: right;\n",
       "    }\n",
       "</style>\n",
       "<table border=\"1\" class=\"dataframe\">\n",
       "  <thead>\n",
       "    <tr style=\"text-align: right;\">\n",
       "      <th></th>\n",
       "      <th>cmu</th>\n",
       "      <th>news</th>\n",
       "      <th>srv</th>\n",
       "      <th>cantaloupe</th>\n",
       "      <th>net</th>\n",
       "      <th>message</th>\n",
       "      <th>subject</th>\n",
       "      <th>lines</th>\n",
       "      <th>newsgroups</th>\n",
       "      <th>path</th>\n",
       "      <th>...</th>\n",
       "      <th>blood</th>\n",
       "      <th>hey</th>\n",
       "      <th>analysis</th>\n",
       "      <th>stupid</th>\n",
       "      <th>ron</th>\n",
       "      <th>spot</th>\n",
       "      <th>phil</th>\n",
       "      <th>street</th>\n",
       "      <th>convert</th>\n",
       "      <th>purpose</th>\n",
       "    </tr>\n",
       "  </thead>\n",
       "  <tbody>\n",
       "    <tr>\n",
       "      <th>0</th>\n",
       "      <td>5</td>\n",
       "      <td>4</td>\n",
       "      <td>3</td>\n",
       "      <td>2</td>\n",
       "      <td>1</td>\n",
       "      <td>0</td>\n",
       "      <td>0</td>\n",
       "      <td>1</td>\n",
       "      <td>0</td>\n",
       "      <td>0</td>\n",
       "      <td>...</td>\n",
       "      <td>0</td>\n",
       "      <td>0</td>\n",
       "      <td>0</td>\n",
       "      <td>0</td>\n",
       "      <td>0</td>\n",
       "      <td>0</td>\n",
       "      <td>0</td>\n",
       "      <td>0</td>\n",
       "      <td>0</td>\n",
       "      <td>0</td>\n",
       "    </tr>\n",
       "    <tr>\n",
       "      <th>1</th>\n",
       "      <td>4</td>\n",
       "      <td>3</td>\n",
       "      <td>3</td>\n",
       "      <td>2</td>\n",
       "      <td>1</td>\n",
       "      <td>0</td>\n",
       "      <td>1</td>\n",
       "      <td>0</td>\n",
       "      <td>0</td>\n",
       "      <td>0</td>\n",
       "      <td>...</td>\n",
       "      <td>1</td>\n",
       "      <td>0</td>\n",
       "      <td>0</td>\n",
       "      <td>0</td>\n",
       "      <td>0</td>\n",
       "      <td>0</td>\n",
       "      <td>0</td>\n",
       "      <td>0</td>\n",
       "      <td>2</td>\n",
       "      <td>3</td>\n",
       "    </tr>\n",
       "    <tr>\n",
       "      <th>2</th>\n",
       "      <td>3</td>\n",
       "      <td>2</td>\n",
       "      <td>2</td>\n",
       "      <td>1</td>\n",
       "      <td>1</td>\n",
       "      <td>0</td>\n",
       "      <td>0</td>\n",
       "      <td>0</td>\n",
       "      <td>0</td>\n",
       "      <td>0</td>\n",
       "      <td>...</td>\n",
       "      <td>0</td>\n",
       "      <td>0</td>\n",
       "      <td>0</td>\n",
       "      <td>0</td>\n",
       "      <td>0</td>\n",
       "      <td>0</td>\n",
       "      <td>0</td>\n",
       "      <td>0</td>\n",
       "      <td>0</td>\n",
       "      <td>0</td>\n",
       "    </tr>\n",
       "    <tr>\n",
       "      <th>3</th>\n",
       "      <td>4</td>\n",
       "      <td>1</td>\n",
       "      <td>3</td>\n",
       "      <td>2</td>\n",
       "      <td>1</td>\n",
       "      <td>0</td>\n",
       "      <td>0</td>\n",
       "      <td>0</td>\n",
       "      <td>0</td>\n",
       "      <td>0</td>\n",
       "      <td>...</td>\n",
       "      <td>0</td>\n",
       "      <td>0</td>\n",
       "      <td>0</td>\n",
       "      <td>0</td>\n",
       "      <td>0</td>\n",
       "      <td>0</td>\n",
       "      <td>0</td>\n",
       "      <td>0</td>\n",
       "      <td>0</td>\n",
       "      <td>0</td>\n",
       "    </tr>\n",
       "    <tr>\n",
       "      <th>4</th>\n",
       "      <td>4</td>\n",
       "      <td>0</td>\n",
       "      <td>3</td>\n",
       "      <td>2</td>\n",
       "      <td>1</td>\n",
       "      <td>0</td>\n",
       "      <td>0</td>\n",
       "      <td>0</td>\n",
       "      <td>0</td>\n",
       "      <td>0</td>\n",
       "      <td>...</td>\n",
       "      <td>0</td>\n",
       "      <td>0</td>\n",
       "      <td>0</td>\n",
       "      <td>0</td>\n",
       "      <td>0</td>\n",
       "      <td>0</td>\n",
       "      <td>0</td>\n",
       "      <td>0</td>\n",
       "      <td>0</td>\n",
       "      <td>0</td>\n",
       "    </tr>\n",
       "  </tbody>\n",
       "</table>\n",
       "<p>5 rows × 1000 columns</p>\n",
       "</div>"
      ],
      "text/plain": [
       "   cmu  news  srv  cantaloupe  net  message  subject  lines  newsgroups  path  \\\n",
       "0    5     4    3           2    1        0        0      1           0     0   \n",
       "1    4     3    3           2    1        0        1      0           0     0   \n",
       "2    3     2    2           1    1        0        0      0           0     0   \n",
       "3    4     1    3           2    1        0        0      0           0     0   \n",
       "4    4     0    3           2    1        0        0      0           0     0   \n",
       "\n",
       "    ...     blood  hey  analysis  stupid  ron  spot  phil  street  convert  \\\n",
       "0   ...         0    0         0       0    0     0     0       0        0   \n",
       "1   ...         1    0         0       0    0     0     0       0        2   \n",
       "2   ...         0    0         0       0    0     0     0       0        0   \n",
       "3   ...         0    0         0       0    0     0     0       0        0   \n",
       "4   ...         0    0         0       0    0     0     0       0        0   \n",
       "\n",
       "   purpose  \n",
       "0        0  \n",
       "1        3  \n",
       "2        0  \n",
       "3        0  \n",
       "4        0  \n",
       "\n",
       "[5 rows x 1000 columns]"
      ]
     },
     "execution_count": 31,
     "metadata": {},
     "output_type": "execute_result"
    }
   ],
   "source": [
    "import pandas as pd\n",
    "df_train=pd.DataFrame(X_train_after,columns=feature_set)\n",
    "df_train.head()"
   ]
  },
  {
   "cell_type": "code",
   "execution_count": 32,
   "metadata": {},
   "outputs": [],
   "source": [
    "#Creating the target array\n",
    "Y_target=[]\n",
    "for files in os.listdir('20_newsgroups/'):\n",
    "    Y_target.append(files)"
   ]
  },
  {
   "cell_type": "code",
   "execution_count": 33,
   "metadata": {},
   "outputs": [
    {
     "data": {
      "text/plain": [
       "['alt.atheism',\n",
       " 'comp.graphics',\n",
       " 'comp.os.ms-windows.misc',\n",
       " 'comp.sys.ibm.pc.hardware',\n",
       " 'comp.sys.mac.hardware',\n",
       " 'comp.windows.x',\n",
       " 'misc.forsale',\n",
       " 'rec.autos',\n",
       " 'rec.motorcycles',\n",
       " 'rec.sport.baseball',\n",
       " 'rec.sport.hockey',\n",
       " 'sci.crypt',\n",
       " 'sci.electronics',\n",
       " 'sci.med',\n",
       " 'sci.space',\n",
       " 'soc.religion.christian',\n",
       " 'talk.politics.guns',\n",
       " 'talk.politics.mideast',\n",
       " 'talk.politics.misc',\n",
       " 'talk.religion.misc']"
      ]
     },
     "execution_count": 33,
     "metadata": {},
     "output_type": "execute_result"
    }
   ],
   "source": [
    "#Printing the target array\n",
    "Y_target"
   ]
  },
  {
   "cell_type": "markdown",
   "metadata": {},
   "source": [
    "### Creating a similar dataframe for test data"
   ]
  },
  {
   "cell_type": "markdown",
   "metadata": {},
   "source": [
    "### Steps Performed\n",
    "Same thing we did for training data"
   ]
  },
  {
   "cell_type": "code",
   "execution_count": 34,
   "metadata": {},
   "outputs": [],
   "source": [
    "X_test=np.zeros((5000,1000))\n",
    "Y_test=[]\n",
    "i=0\n",
    "#Go to each folder in the folder 20_newsgroups\n",
    "for document in os.listdir('20_newsgroupd_test/'):\n",
    "    new_path=os.path.join('20_newsgroupd_test//',document)\n",
    "    #Go to each file\n",
    "    for file in os.listdir(new_path):\n",
    "        new_file_path=os.path.join(new_path,file)\n",
    "        f=open(new_file_path,'r')\n",
    "        content=f.read()\n",
    "        #Generate the tokens using regular expression\n",
    "        tokens=re.compile('\\w+').findall(content)\n",
    "        #Iterate over the tokens and if found in feature set add this in the particular location in the 2d array\n",
    "        for token in tokens:\n",
    "            if token in feature_set:\n",
    "                X_test[i][feature_set.index(token)]+=1\n",
    "        Y_test.append(document)\n",
    "        i+=1"
   ]
  },
  {
   "cell_type": "code",
   "execution_count": 35,
   "metadata": {},
   "outputs": [
    {
     "data": {
      "text/plain": [
       "(5000, 1000)"
      ]
     },
     "execution_count": 35,
     "metadata": {},
     "output_type": "execute_result"
    }
   ],
   "source": [
    "X_test.shape"
   ]
  },
  {
   "cell_type": "code",
   "execution_count": 36,
   "metadata": {},
   "outputs": [],
   "source": [
    "#Saving our Testing data in a csv file\n",
    "np.savetxt('after_split_test.csv',X_test,fmt=\"%i\",delimiter=',')"
   ]
  },
  {
   "cell_type": "code",
   "execution_count": 37,
   "metadata": {},
   "outputs": [],
   "source": [
    "#Loading from that csv file\n",
    "X_test_after_save=np.loadtxt('after_split_test.csv',dtype=int,delimiter=',')"
   ]
  },
  {
   "cell_type": "code",
   "execution_count": 38,
   "metadata": {},
   "outputs": [],
   "source": [
    "df_test=pd.DataFrame(X_test,columns=feature_set)"
   ]
  },
  {
   "cell_type": "code",
   "execution_count": 39,
   "metadata": {},
   "outputs": [
    {
     "data": {
      "text/html": [
       "<div>\n",
       "<style scoped>\n",
       "    .dataframe tbody tr th:only-of-type {\n",
       "        vertical-align: middle;\n",
       "    }\n",
       "\n",
       "    .dataframe tbody tr th {\n",
       "        vertical-align: top;\n",
       "    }\n",
       "\n",
       "    .dataframe thead th {\n",
       "        text-align: right;\n",
       "    }\n",
       "</style>\n",
       "<table border=\"1\" class=\"dataframe\">\n",
       "  <thead>\n",
       "    <tr style=\"text-align: right;\">\n",
       "      <th></th>\n",
       "      <th>cmu</th>\n",
       "      <th>news</th>\n",
       "      <th>srv</th>\n",
       "      <th>cantaloupe</th>\n",
       "      <th>net</th>\n",
       "      <th>message</th>\n",
       "      <th>subject</th>\n",
       "      <th>lines</th>\n",
       "      <th>newsgroups</th>\n",
       "      <th>path</th>\n",
       "      <th>...</th>\n",
       "      <th>blood</th>\n",
       "      <th>hey</th>\n",
       "      <th>analysis</th>\n",
       "      <th>stupid</th>\n",
       "      <th>ron</th>\n",
       "      <th>spot</th>\n",
       "      <th>phil</th>\n",
       "      <th>street</th>\n",
       "      <th>convert</th>\n",
       "      <th>purpose</th>\n",
       "    </tr>\n",
       "  </thead>\n",
       "  <tbody>\n",
       "    <tr>\n",
       "      <th>0</th>\n",
       "      <td>3.0</td>\n",
       "      <td>0.0</td>\n",
       "      <td>2.0</td>\n",
       "      <td>1.0</td>\n",
       "      <td>1.0</td>\n",
       "      <td>0.0</td>\n",
       "      <td>0.0</td>\n",
       "      <td>0.0</td>\n",
       "      <td>0.0</td>\n",
       "      <td>0.0</td>\n",
       "      <td>...</td>\n",
       "      <td>0.0</td>\n",
       "      <td>0.0</td>\n",
       "      <td>0.0</td>\n",
       "      <td>0.0</td>\n",
       "      <td>0.0</td>\n",
       "      <td>0.0</td>\n",
       "      <td>0.0</td>\n",
       "      <td>0.0</td>\n",
       "      <td>0.0</td>\n",
       "      <td>0.0</td>\n",
       "    </tr>\n",
       "    <tr>\n",
       "      <th>1</th>\n",
       "      <td>2.0</td>\n",
       "      <td>0.0</td>\n",
       "      <td>2.0</td>\n",
       "      <td>2.0</td>\n",
       "      <td>1.0</td>\n",
       "      <td>1.0</td>\n",
       "      <td>0.0</td>\n",
       "      <td>0.0</td>\n",
       "      <td>0.0</td>\n",
       "      <td>0.0</td>\n",
       "      <td>...</td>\n",
       "      <td>0.0</td>\n",
       "      <td>0.0</td>\n",
       "      <td>0.0</td>\n",
       "      <td>0.0</td>\n",
       "      <td>0.0</td>\n",
       "      <td>0.0</td>\n",
       "      <td>0.0</td>\n",
       "      <td>0.0</td>\n",
       "      <td>0.0</td>\n",
       "      <td>0.0</td>\n",
       "    </tr>\n",
       "    <tr>\n",
       "      <th>2</th>\n",
       "      <td>3.0</td>\n",
       "      <td>0.0</td>\n",
       "      <td>2.0</td>\n",
       "      <td>1.0</td>\n",
       "      <td>0.0</td>\n",
       "      <td>0.0</td>\n",
       "      <td>0.0</td>\n",
       "      <td>1.0</td>\n",
       "      <td>0.0</td>\n",
       "      <td>0.0</td>\n",
       "      <td>...</td>\n",
       "      <td>0.0</td>\n",
       "      <td>0.0</td>\n",
       "      <td>0.0</td>\n",
       "      <td>0.0</td>\n",
       "      <td>0.0</td>\n",
       "      <td>0.0</td>\n",
       "      <td>0.0</td>\n",
       "      <td>0.0</td>\n",
       "      <td>0.0</td>\n",
       "      <td>0.0</td>\n",
       "    </tr>\n",
       "    <tr>\n",
       "      <th>3</th>\n",
       "      <td>3.0</td>\n",
       "      <td>0.0</td>\n",
       "      <td>2.0</td>\n",
       "      <td>1.0</td>\n",
       "      <td>0.0</td>\n",
       "      <td>0.0</td>\n",
       "      <td>0.0</td>\n",
       "      <td>0.0</td>\n",
       "      <td>0.0</td>\n",
       "      <td>0.0</td>\n",
       "      <td>...</td>\n",
       "      <td>0.0</td>\n",
       "      <td>0.0</td>\n",
       "      <td>0.0</td>\n",
       "      <td>0.0</td>\n",
       "      <td>0.0</td>\n",
       "      <td>0.0</td>\n",
       "      <td>0.0</td>\n",
       "      <td>0.0</td>\n",
       "      <td>0.0</td>\n",
       "      <td>0.0</td>\n",
       "    </tr>\n",
       "    <tr>\n",
       "      <th>4</th>\n",
       "      <td>8.0</td>\n",
       "      <td>0.0</td>\n",
       "      <td>2.0</td>\n",
       "      <td>1.0</td>\n",
       "      <td>0.0</td>\n",
       "      <td>0.0</td>\n",
       "      <td>0.0</td>\n",
       "      <td>0.0</td>\n",
       "      <td>0.0</td>\n",
       "      <td>0.0</td>\n",
       "      <td>...</td>\n",
       "      <td>0.0</td>\n",
       "      <td>0.0</td>\n",
       "      <td>0.0</td>\n",
       "      <td>0.0</td>\n",
       "      <td>0.0</td>\n",
       "      <td>0.0</td>\n",
       "      <td>0.0</td>\n",
       "      <td>0.0</td>\n",
       "      <td>0.0</td>\n",
       "      <td>0.0</td>\n",
       "    </tr>\n",
       "  </tbody>\n",
       "</table>\n",
       "<p>5 rows × 1000 columns</p>\n",
       "</div>"
      ],
      "text/plain": [
       "   cmu  news  srv  cantaloupe  net  message  subject  lines  newsgroups  path  \\\n",
       "0  3.0   0.0  2.0         1.0  1.0      0.0      0.0    0.0         0.0   0.0   \n",
       "1  2.0   0.0  2.0         2.0  1.0      1.0      0.0    0.0         0.0   0.0   \n",
       "2  3.0   0.0  2.0         1.0  0.0      0.0      0.0    1.0         0.0   0.0   \n",
       "3  3.0   0.0  2.0         1.0  0.0      0.0      0.0    0.0         0.0   0.0   \n",
       "4  8.0   0.0  2.0         1.0  0.0      0.0      0.0    0.0         0.0   0.0   \n",
       "\n",
       "    ...     blood  hey  analysis  stupid  ron  spot  phil  street  convert  \\\n",
       "0   ...       0.0  0.0       0.0     0.0  0.0   0.0   0.0     0.0      0.0   \n",
       "1   ...       0.0  0.0       0.0     0.0  0.0   0.0   0.0     0.0      0.0   \n",
       "2   ...       0.0  0.0       0.0     0.0  0.0   0.0   0.0     0.0      0.0   \n",
       "3   ...       0.0  0.0       0.0     0.0  0.0   0.0   0.0     0.0      0.0   \n",
       "4   ...       0.0  0.0       0.0     0.0  0.0   0.0   0.0     0.0      0.0   \n",
       "\n",
       "   purpose  \n",
       "0      0.0  \n",
       "1      0.0  \n",
       "2      0.0  \n",
       "3      0.0  \n",
       "4      0.0  \n",
       "\n",
       "[5 rows x 1000 columns]"
      ]
     },
     "execution_count": 39,
     "metadata": {},
     "output_type": "execute_result"
    }
   ],
   "source": [
    "df_test.head()"
   ]
  },
  {
   "cell_type": "code",
   "execution_count": 40,
   "metadata": {},
   "outputs": [
    {
     "data": {
      "text/plain": [
       "5000"
      ]
     },
     "execution_count": 40,
     "metadata": {},
     "output_type": "execute_result"
    }
   ],
   "source": [
    "len(Y_test)"
   ]
  },
  {
   "cell_type": "markdown",
   "metadata": {},
   "source": [
    "### Using sklearn's MULTINOMIAL NAIVE BAYES"
   ]
  },
  {
   "cell_type": "code",
   "execution_count": 41,
   "metadata": {},
   "outputs": [],
   "source": [
    "from sklearn.naive_bayes import MultinomialNB"
   ]
  },
  {
   "cell_type": "markdown",
   "metadata": {},
   "source": [
    "### Using Grid Search to select the best parameters"
   ]
  },
  {
   "cell_type": "code",
   "execution_count": 59,
   "metadata": {},
   "outputs": [],
   "source": [
    "from sklearn.model_selection import GridSearchCV"
   ]
  },
  {
   "cell_type": "code",
   "execution_count": 69,
   "metadata": {},
   "outputs": [
    {
     "data": {
      "text/plain": [
       "GridSearchCV(cv=None, error_score='raise',\n",
       "       estimator=MultinomialNB(alpha=1.0, class_prior=None, fit_prior=True),\n",
       "       fit_params=None, iid=True, n_jobs=1,\n",
       "       param_grid={'alpha': [0.01, 0.001, 0.005, 1, 100, 0.0001, 0.015, 0.067, 0.7, 0.54, 0.43]},\n",
       "       pre_dispatch='2*n_jobs', refit=True, return_train_score='warn',\n",
       "       scoring=None, verbose=0)"
      ]
     },
     "execution_count": 69,
     "metadata": {},
     "output_type": "execute_result"
    }
   ],
   "source": [
    "nb=MultinomialNB()\n",
    "dic={\"alpha\":[0.01,0.001,0.005,1,100,0.0001,0.015,0.067,0.7,0.54,0.43]}\n",
    "cv=GridSearchCV(nb,dic)\n",
    "cv.fit(X_TRAIN,Y_train)"
   ]
  },
  {
   "cell_type": "code",
   "execution_count": 70,
   "metadata": {},
   "outputs": [
    {
     "data": {
      "text/plain": [
       "MultinomialNB(alpha=0.54, class_prior=None, fit_prior=True)"
      ]
     },
     "execution_count": 70,
     "metadata": {},
     "output_type": "execute_result"
    }
   ],
   "source": [
    "## Best Estimators\n",
    "cv.best_estimator_"
   ]
  },
  {
   "cell_type": "code",
   "execution_count": null,
   "metadata": {},
   "outputs": [],
   "source": []
  },
  {
   "cell_type": "code",
   "execution_count": 71,
   "metadata": {},
   "outputs": [],
   "source": [
    "ab=MultinomialNB(alpha=0.54)"
   ]
  },
  {
   "cell_type": "code",
   "execution_count": 72,
   "metadata": {},
   "outputs": [
    {
     "data": {
      "text/plain": [
       "MultinomialNB(alpha=0.54, class_prior=None, fit_prior=True)"
      ]
     },
     "execution_count": 72,
     "metadata": {},
     "output_type": "execute_result"
    }
   ],
   "source": [
    "ab.fit(X_TRAIN,Y_train)"
   ]
  },
  {
   "cell_type": "code",
   "execution_count": 73,
   "metadata": {},
   "outputs": [],
   "source": [
    "y_pred_sk=ab.predict(X_test)"
   ]
  },
  {
   "cell_type": "code",
   "execution_count": 74,
   "metadata": {},
   "outputs": [
    {
     "data": {
      "text/plain": [
       "array(['alt.atheism', 'talk.politics.guns', 'alt.atheism', ...,\n",
       "       'alt.atheism', 'alt.atheism', 'talk.politics.mideast'],\n",
       "      dtype='<U24')"
      ]
     },
     "execution_count": 74,
     "metadata": {},
     "output_type": "execute_result"
    }
   ],
   "source": [
    "y_pred_sk"
   ]
  },
  {
   "cell_type": "code",
   "execution_count": 75,
   "metadata": {},
   "outputs": [
    {
     "data": {
      "text/plain": [
       "0.8945789157831566"
      ]
     },
     "execution_count": 75,
     "metadata": {},
     "output_type": "execute_result"
    }
   ],
   "source": [
    "#Training score earlier=0.899\n",
    "ab.score(X_TRAIN,Y_train)"
   ]
  },
  {
   "cell_type": "code",
   "execution_count": 76,
   "metadata": {},
   "outputs": [
    {
     "data": {
      "text/plain": [
       "0.808"
      ]
     },
     "execution_count": 76,
     "metadata": {},
     "output_type": "execute_result"
    }
   ],
   "source": [
    "#Testing Score earlier=0.808\n",
    "ab.score(X_test,Y_test)"
   ]
  },
  {
   "cell_type": "code",
   "execution_count": 77,
   "metadata": {},
   "outputs": [
    {
     "name": "stdout",
     "output_type": "stream",
     "text": [
      "                          precision    recall  f1-score   support\n",
      "\n",
      "             alt.atheism       0.65      0.51      0.57       317\n",
      "           comp.graphics       0.61      0.58      0.60       260\n",
      " comp.os.ms-windows.misc       0.78      0.75      0.76       260\n",
      "comp.sys.ibm.pc.hardware       0.91      0.69      0.79       328\n",
      "   comp.sys.mac.hardware       0.76      0.90      0.82       212\n",
      "          comp.windows.x       0.65      0.66      0.65       248\n",
      "            misc.forsale       0.85      0.95      0.90       224\n",
      "               rec.autos       0.95      0.89      0.92       267\n",
      "         rec.motorcycles       0.92      0.97      0.95       238\n",
      "      rec.sport.baseball       0.95      0.98      0.97       243\n",
      "        rec.sport.hockey       0.97      0.94      0.96       258\n",
      "               sci.crypt       0.94      0.98      0.96       241\n",
      "         sci.electronics       0.81      0.87      0.84       231\n",
      "                 sci.med       0.96      0.93      0.94       256\n",
      "               sci.space       0.83      0.95      0.89       219\n",
      "  soc.religion.christian       0.99      0.99      0.99       250\n",
      "      talk.politics.guns       0.89      0.81      0.85       273\n",
      "   talk.politics.mideast       0.97      0.67      0.79       361\n",
      "      talk.politics.misc       0.56      0.78      0.65       181\n",
      "      talk.religion.misc       0.20      0.38      0.27       133\n",
      "\n",
      "             avg / total       0.83      0.81      0.81      5000\n",
      "\n"
     ]
    }
   ],
   "source": [
    "#Printing Cassification report for the inbuilt sklearn Naive Bayes\n",
    "print(classification_report(y_pred_sk,Y_test))"
   ]
  },
  {
   "cell_type": "code",
   "execution_count": 78,
   "metadata": {},
   "outputs": [
    {
     "name": "stdout",
     "output_type": "stream",
     "text": [
      "[[163   0   0   0   0   0   0   0   0   0   0   1   0   2   4   0   0   2\n",
      "    2 143]\n",
      " [  0 152   0   3   6  49   1   0   2   0   0   8  14   6  18   0   0   0\n",
      "    0   1]\n",
      " [  1  18 195   7   3  28   4   0   0   0   0   0   3   0   1   0   0   0\n",
      "    0   0]\n",
      " [  0  14  15 227  47   2   9   1   0   0   0   0  12   0   1   0   0   0\n",
      "    0   0]\n",
      " [  0   6   0  10 190   1   4   0   0   0   0   0   1   0   0   0   0   0\n",
      "    0   0]\n",
      " [  0  48  35   0   0 163   0   0   1   0   0   1   0   0   0   0   0   0\n",
      "    0   0]\n",
      " [  0   3   0   0   3   1 213   0   1   0   1   0   2   0   0   0   0   0\n",
      "    0   0]\n",
      " [  0   0   1   0   0   0   8 237  12   0   0   0   8   1   0   0   0   0\n",
      "    0   0]\n",
      " [  0   0   0   0   0   0   2   4 231   1   0   0   0   0   0   0   0   0\n",
      "    0   0]\n",
      " [  0   0   0   0   0   0   0   0   1 238   4   0   0   0   0   0   0   0\n",
      "    0   0]\n",
      " [  2   0   0   0   0   1   0   1   0  10 243   0   0   1   0   0   0   0\n",
      "    0   0]\n",
      " [  1   1   0   0   1   2   0   0   0   0   0 235   0   0   0   0   1   0\n",
      "    0   0]\n",
      " [  2   4   1   3   0   2   5   3   0   0   0   1 202   0   8   0   0   0\n",
      "    0   0]\n",
      " [  1   3   1   0   0   0   1   0   1   0   0   0   4 239   4   0   0   0\n",
      "    2   0]\n",
      " [  3   1   0   0   0   0   2   1   0   0   0   0   4   0 208   0   0   0\n",
      "    0   0]\n",
      " [  0   0   0   0   0   0   0   0   0   0   0   0   0   0   0 248   0   0\n",
      "    0   2]\n",
      " [  2   0   2   0   0   0   0   2   0   0   0   3   0   0   1   0 222   1\n",
      "   26  14]\n",
      " [  3   0   0   0   0   1   0   1   1   1   2   1   0   0   2   2  23 242\n",
      "   69  13]\n",
      " [  1   0   0   0   0   0   1   0   0   0   0   0   0   1   2   0   4   5\n",
      "  141  26]\n",
      " [ 71   0   0   0   0   0   0   0   0   0   0   0   0   0   1   0   0   0\n",
      "   10  51]]\n"
     ]
    }
   ],
   "source": [
    "#Printing Confusion Matrix\n",
    "print(confusion_matrix(y_pred_sk,Y_test))"
   ]
  },
  {
   "cell_type": "markdown",
   "metadata": {},
   "source": [
    "### Writing the algorithm for multinomial Naive Bayes"
   ]
  },
  {
   "cell_type": "markdown",
   "metadata": {},
   "source": [
    "### How to training the model on training data?\n",
    "So We wrote a fit function which will use the training data to train the model.\n",
    "we are taking a dictionary and the dictionary will be a multilevel dictionary where In the first level we are storing the classes and the total number of documents in the training data.Then we are iterating over each class and making another dictionary where we are storing count of each feature(word in this case) i.e the sum of all the rows in that column and we are also storing the number of documents in a class."
   ]
  },
  {
   "cell_type": "code",
   "execution_count": 50,
   "metadata": {},
   "outputs": [],
   "source": [
    "def fit(X_train,Y_train,feature_set):\n",
    "    res=dict()\n",
    "    #Storing the total count of documents in the first level\n",
    "    res['total_num_documents']=len(X_train)\n",
    "    #Getting distinct classes \n",
    "    cur_class=set(Y_train)\n",
    "    #Iterating over all the classes\n",
    "    for clas in cur_class:\n",
    "        #Creating a dict for that class\n",
    "        res[clas]=dict()\n",
    "        #Filtering out the total training data to contain only the data with Y_train as current clas\n",
    "        x_train=X_train[Y_train==clas]\n",
    "        y_train=Y_train[Y_train==clas]\n",
    "        #Number of features i.e number of columns will be the at the first index of X_train.shape\n",
    "        num_of_feature=x_train.shape[1]\n",
    "        #Storing the total count of all the words in that class\n",
    "        res[clas]['total_class_count']=x_train.sum()\n",
    "        #String the number of documents in the class\n",
    "        res[clas]['document_each_class']=len(x_train)\n",
    "        number_of_feature=X_train.shape[1]\n",
    "        #Iterating over all the features and for each word storing the count of that word in the current class\n",
    "        for j in range(number_of_feature):\n",
    "            res[clas][feature_set[j]]=x_train[:,j].sum()\n",
    "    return res"
   ]
  },
  {
   "cell_type": "markdown",
   "metadata": {},
   "source": [
    "## Probability Function\n",
    "This functions takes the dictionary,current class,a row of the testing data and the feature set.I'm using bayes theorem here to calculate: $$ P(y=currentclass \\mid \\sum_{j=0}^n X^j=x^j) $$ <br>\n",
    "According to bayes Theorem :$$ P(y=currentclass \\mid \\sum_{j=0}^n X^j=x^j)=\\frac{P(\\sum_{j=0}^n X^j=x^j \\mid y=currentclass) \\, P(y=currentclass)}{P(X)}$$<br>\n",
    "So As P(X)  is common is all we can ignore this.We find this probability for all the classes and choose the one with maximum probability.In my probabillity function initially we find the P(y=current_class) which is nothing but the number of documents in that class divided by total number of documents.In Naive Bayes we make an assumption that all the features are independent and we can find<br>\n",
    "$$P(\\sum_{j=0}^n X^j=x^j \\mid y=currentclass)$$ By $$\\prod_{i=1}^{num_of_features}P(X^j=x^j \\mid y=currentclass)$$<br>\n",
    "So we find probability for each feature and then take the product and then multiply it with Class probability.To make the calculations more simple we take all the probabilities as Log probabilities as then we have to find the sum instead of product"
   ]
  },
  {
   "cell_type": "code",
   "execution_count": 51,
   "metadata": {},
   "outputs": [],
   "source": [
    "def probability(diction,x,clas,feature_set):\n",
    "    #Finding the Probability i.e P(y=current class)\n",
    "    output=np.log(diction[clas]['document_each_class'])-np.log(diction['total_num_documents'])\n",
    "    #Since \n",
    "    feature=len(diction[clas].keys())-2\n",
    "    try:\n",
    "        for j in range(feature):\n",
    "            xj=x[j]\n",
    "            if xj==0:\n",
    "                class_prob=0\n",
    "            else:\n",
    "                #Laplace Correction is done to avoid any errors\n",
    "                current_class_with_xj=diction[clas][feature_set[j]]+1\n",
    "                current_class_count=diction[clas]['total_class_count']+1001\n",
    "                class_prob=np.log(current_class_with_xj)-np.log(current_class_count)\n",
    "            output+=class_prob\n",
    "    except:\n",
    "        print(clas,xj,j,feature[j])\n",
    "    return output"
   ]
  },
  {
   "cell_type": "markdown",
   "metadata": {},
   "source": [
    "### Pred Function\n",
    "This function selects the best class of all the classes.This function iterates over all this classes and call probability function and then find the best class out of all the classes and returns that class"
   ]
  },
  {
   "cell_type": "code",
   "execution_count": 52,
   "metadata": {},
   "outputs": [],
   "source": [
    "def pred(diction,x,feature_set):\n",
    "    #Findind the total distinct classes\n",
    "    cur_class=list(diction.keys())\n",
    "    best_p=-99\n",
    "    best_class=0\n",
    "    #initially we want to store the result in the best p and class that is why flag is true initially\n",
    "    flag=True\n",
    "    #Iterating over the classes\n",
    "    for clas in cur_class:\n",
    "        #Class will contain total_num_document also and we want to ignore that\n",
    "        if clas=='total_num_documents':\n",
    "            continue\n",
    "        else:\n",
    "            #Call the probability function which will return the class probability\n",
    "            p_class=probability(diction,x,clas,feature_set)\n",
    "            if flag or p_class>best_p:\n",
    "                best_p=p_class\n",
    "                best_class=clas\n",
    "            flag=False\n",
    "    return best_class"
   ]
  },
  {
   "cell_type": "markdown",
   "metadata": {},
   "source": [
    "## Predict Class Function\n",
    "In this function we iterate over the X_test and pass each row to pred function which returns the predicted class.It stores this predicted class in a list and then returns the list"
   ]
  },
  {
   "cell_type": "code",
   "execution_count": 53,
   "metadata": {},
   "outputs": [],
   "source": [
    "def predict_class(diction,X_test,feature_set):\n",
    "    y_pred=[]\n",
    "    #Iterate over all the rows\n",
    "    for x in X_test:\n",
    "        #call pred function\n",
    "        x_class=pred(diction,x,feature_set)\n",
    "        y_pred.append(x_class)\n",
    "    return y_pred"
   ]
  },
  {
   "cell_type": "code",
   "execution_count": 54,
   "metadata": {},
   "outputs": [],
   "source": [
    "Y_tra=np.array(Y_train)"
   ]
  },
  {
   "cell_type": "code",
   "execution_count": 55,
   "metadata": {},
   "outputs": [],
   "source": [
    "dic=fit(X_TRAIN,Y_tra,feature_set)"
   ]
  },
  {
   "cell_type": "code",
   "execution_count": 56,
   "metadata": {},
   "outputs": [],
   "source": [
    "y_pred=predict_class(dic,X_test,feature_set)"
   ]
  },
  {
   "cell_type": "markdown",
   "metadata": {},
   "source": [
    "### Accuracy of our classifier"
   ]
  },
  {
   "cell_type": "code",
   "execution_count": 57,
   "metadata": {},
   "outputs": [
    {
     "name": "stdout",
     "output_type": "stream",
     "text": [
      "                          precision    recall  f1-score   support\n",
      "\n",
      "             alt.atheism       0.51      0.73      0.60       250\n",
      "           comp.graphics       0.49      0.61      0.54       250\n",
      " comp.os.ms-windows.misc       0.77      0.74      0.75       250\n",
      "comp.sys.ibm.pc.hardware       0.70      0.90      0.79       250\n",
      "   comp.sys.mac.hardware       0.89      0.75      0.81       250\n",
      "          comp.windows.x       0.60      0.63      0.62       250\n",
      "            misc.forsale       0.97      0.85      0.91       250\n",
      "               rec.autos       0.93      0.96      0.95       250\n",
      "         rec.motorcycles       0.99      0.96      0.98       250\n",
      "      rec.sport.baseball       0.99      0.96      0.97       250\n",
      "        rec.sport.hockey       0.96      0.99      0.97       250\n",
      "               sci.crypt       0.97      0.90      0.94       250\n",
      "         sci.electronics       0.90      0.84      0.87       250\n",
      "                 sci.med       0.90      0.94      0.92       250\n",
      "               sci.space       0.98      0.73      0.84       250\n",
      "  soc.religion.christian       1.00      0.99      0.99       250\n",
      "      talk.politics.guns       0.82      0.78      0.80       250\n",
      "   talk.politics.mideast       0.54      0.99      0.70       250\n",
      "      talk.politics.misc       0.80      0.43      0.56       250\n",
      "      talk.religion.misc       0.28      0.10      0.15       250\n",
      "\n",
      "             avg / total       0.80      0.79      0.78      5000\n",
      "\n"
     ]
    }
   ],
   "source": [
    "#Printing Classification Report\n",
    "from sklearn.metrics import classification_report\n",
    "print(classification_report(Y_test,y_pred))"
   ]
  },
  {
   "cell_type": "code",
   "execution_count": 58,
   "metadata": {},
   "outputs": [
    {
     "name": "stdout",
     "output_type": "stream",
     "text": [
      "[[183   1   0   0   0   0   0   0   0   0   0   0   2   2   2   0   1   2\n",
      "    0  57]\n",
      " [  0 152  17   7   7  59   3   0   0   0   0   0   3   2   0   0   0   0\n",
      "    0   0]\n",
      " [  0   3 185  17   1  44   0   0   0   0   0   0   0   0   0   0   0   0\n",
      "    0   0]\n",
      " [  0   5   7 226  11   1   0   0   0   0   0   0   0   0   0   0   0   0\n",
      "    0   0]\n",
      " [  0  10   1  47 187   1   2   0   0   0   0   0   2   0   0   0   0   0\n",
      "    0   0]\n",
      " [  0  60  26   2   0 158   1   0   0   0   0   0   2   1   0   0   0   0\n",
      "    0   0]\n",
      " [  0   0   1  14   4   0 213   8   0   0   0   0   3   5   1   0   0   1\n",
      "    0   0]\n",
      " [  0   1   0   0   0   0   0 241   2   0   0   0   2   0   0   0   2   2\n",
      "    0   0]\n",
      " [  0   2   0   0   0   0   0   6 240   1   0   0   0   0   0   0   0   1\n",
      "    0   0]\n",
      " [  0   0   0   0   0   0   0   0   0 239  11   0   0   0   0   0   0   0\n",
      "    0   0]\n",
      " [  0   0   0   0   0   0   0   0   0   1 247   0   0   1   0   0   0   0\n",
      "    1   0]\n",
      " [  1  19   0   1   0   0   0   0   0   0   0 226   0   1   0   0   2   0\n",
      "    0   0]\n",
      " [  0  17   4   7   0   0   1   4   0   0   0   2 210   4   0   0   0   1\n",
      "    0   0]\n",
      " [  7   6   0   0   0   0   0   0   0   0   0   0   1 235   0   0   0   1\n",
      "    0   0]\n",
      " [  5  32   0   0   0   0   0   0   0   0   0   3   9   9 183   0   0   7\n",
      "    1   1]\n",
      " [  0   0   0   0   0   0   0   0   0   0   0   0   0   0   0 247   0   3\n",
      "    0   0]\n",
      " [  1   0   0   0   0   0   0   0   0   0   0   1   0   0   0   0 194  50\n",
      "    4   0]\n",
      " [  0   0   0   0   0   0   0   0   0   0   0   0   0   0   0   0   0 248\n",
      "    2   0]\n",
      " [ 11   0   0   0   0   0   0   0   0   0   0   0   0   1   0   0  23 102\n",
      "  107   6]\n",
      " [153   1   0   0   0   0   0   0   0   0   0   0   0   0   0   1  14  38\n",
      "   18  25]]\n"
     ]
    }
   ],
   "source": [
    "#Printing Confusion Matrix\n",
    "from sklearn.metrics import confusion_matrix\n",
    "print(confusion_matrix(Y_test,y_pred))"
   ]
  },
  {
   "cell_type": "markdown",
   "metadata": {},
   "source": [
    "## Results\n",
    "So the algorithm we wrote has a precision of 80% whereas the inbuilt sklearn's Multinomial Naive Bayes has a precision of 83%.According to Stanford Scientists the best possible precision is 85%.The algorithm we wrote can be further optimized to increase the accuracy.We can run the algorithm parallely and by this we can reduce the computation time.Naive bayes is a very simple algorithm but for classification like this It is a powerful algorithm.WE can also use Naive Bayes for spam identification and many other classification problems."
   ]
  },
  {
   "cell_type": "code",
   "execution_count": null,
   "metadata": {},
   "outputs": [],
   "source": []
  },
  {
   "cell_type": "code",
   "execution_count": null,
   "metadata": {},
   "outputs": [],
   "source": []
  },
  {
   "cell_type": "code",
   "execution_count": null,
   "metadata": {},
   "outputs": [],
   "source": []
  },
  {
   "cell_type": "code",
   "execution_count": null,
   "metadata": {},
   "outputs": [],
   "source": []
  },
  {
   "cell_type": "code",
   "execution_count": null,
   "metadata": {},
   "outputs": [],
   "source": []
  },
  {
   "cell_type": "code",
   "execution_count": null,
   "metadata": {},
   "outputs": [],
   "source": []
  }
 ],
 "metadata": {
  "kernelspec": {
   "display_name": "Python 3",
   "language": "python",
   "name": "python3"
  },
  "language_info": {
   "codemirror_mode": {
    "name": "ipython",
    "version": 3
   },
   "file_extension": ".py",
   "mimetype": "text/x-python",
   "name": "python",
   "nbconvert_exporter": "python",
   "pygments_lexer": "ipython3",
   "version": "3.6.5"
  }
 },
 "nbformat": 4,
 "nbformat_minor": 2
}
